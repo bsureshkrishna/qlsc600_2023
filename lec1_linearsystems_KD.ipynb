{
 "cells": [
  {
   "cell_type": "markdown",
   "metadata": {},
   "source": [
    "Below, we create some useful functions and code-bits."
   ]
  },
  {
   "cell_type": "code",
   "execution_count": null,
   "metadata": {
    "colab": {
     "base_uri": "https://localhost:8080/",
     "height": 1000
    },
    "id": "1QPPpAWG-f80",
    "outputId": "d7797c46-887d-4e9d-e407-f4d8b9181dc8"
   },
   "outputs": [],
   "source": [
    "\n",
    "#-----Import packages-----#\n",
    "import matplotlib.pyplot as plt\n",
    "from scipy.fft import fft, ifft, fftfreq #Documentation: https://docs.scipy.org/doc/scipy/reference/fft.html#module-scipy.fft\n",
    "from scipy.signal import find_peaks\n",
    "import numpy as np\n",
    "from numpy import real, pi\n",
    "\n",
    "\n",
    "#-----Define functions-----#\n",
    "\n",
    "def print_vars(**kwargs):\n",
    "    output = \"; \".join([f\"{name} = {value}\" for name, value in kwargs.items()])\n",
    "    print(output)\n",
    "\n",
    "def myfft(signal, timeaxis, fs):\n",
    "    #function calculates fft and ifft given signal\n",
    "  signal_fft = (fft(signal, norm=\"forward\")) #calculate forward (normalized) fft. in general, will be complex\n",
    "  signal_ifft = real(ifft(signal_fft, norm=\"forward\")) #invert the fft to hopefully recreate original signal. note that you cannot ignore phase !\n",
    "  freqaxis = fftfreq(len(signal),d=1/fs) #frequency x-axis for fft\n",
    "  return signal_fft, signal_ifft, freqaxis\n",
    "\n",
    "def plotmyfft(signal, timeaxis, signal_fft, signal_ifft, freqaxis, fs): \n",
    "    #function plots signal, fft and ifft\n",
    "  fig,axs = plt.subplots(nrows = 3,\n",
    "                         ncols = 1,\n",
    "                         constrained_layout=\"true\")\n",
    "  \n",
    "  ax=axs[0]\n",
    "  ax.plot(timeaxis,signal) #plot signal\n",
    "  ax.set_xlabel(\"Time (s)\")\n",
    "  ax.set_ylabel(\"Signal\")\n",
    "  ax.set_title(\"Signal\")\n",
    "\n",
    "  ax=axs[1]\n",
    "  fft_abs=abs(signal_fft) #take the absolute value (aka magnitude) of the fft\n",
    "  ax.plot(freqaxis,fft_abs) #plot fft magnitude. ignoring phase here\n",
    "  peaks, _ = find_peaks(fft_abs, height=0.4) # You might need to adjust the height parameter based on your data\n",
    "  ax.scatter(freqaxis[peaks], fft_abs[peaks], color='red') # mark peak points\n",
    "  # Print peaks\n",
    "  for peak in peaks:\n",
    "    print_vars(peak=freqaxis[peak],magnitude=fft_abs[peak])\n",
    "  ax.set_xlabel(\"Frequency (Hz)\")\n",
    "  #ax.set_xlim([-100, 100])\n",
    "  ax.set_ylabel(\"Magnitude\")\n",
    "  ax.set_title(\"FFT of Signal\")\n",
    "\n",
    "  ax=axs[2]\n",
    "  ax.plot(timeaxis,signal_ifft) #plot recovered time signal\n",
    "  ax.set_xlabel(\"Time (s)\")\n",
    "  ax.set_ylabel(\"Recovered Signal\")\n",
    "  ax.set_title(\"Inverse FFT of Signal (Recovered signal)\")\n",
    "\n",
    "  return\n",
    "\n",
    "def plotmyfft2(signal, timeaxis, signal_fft, freqaxis, fs):\n",
    "    #function plots signal and fft. \n",
    "  fig,axs = plt.subplots(nrows = 2,\n",
    "                         ncols = 1,\n",
    "                         constrained_layout=\"true\")\n",
    "  \n",
    "  ax=axs[0]\n",
    "  ax.plot(timeaxis,signal) #make plots\n",
    "  ax.set_xlabel(\"Time (s)\")\n",
    "  ax.set_ylabel(\"Signal\")\n",
    "  ax.set_title(\"Signal\")\n",
    "\n",
    "  ax=axs[1]\n",
    "  fft_abs=abs(signal_fft) #take the absolute value (aka magnitude) of the fft\n",
    "  ax.plot(freqaxis,fft_abs) #plot fft magnitude. ignoring phase here\n",
    "  peaks, _ = find_peaks(fft_abs, height=0.05) # You might need to adjust the height parameter based on your data\n",
    "  ax.scatter(freqaxis[peaks], fft_abs[peaks], color='red') # mark peak points\n",
    "\n",
    "  # Print peaks\n",
    "  for peak in peaks:\n",
    "    print_vars(peak=freqaxis[peak],magnitude=fft_abs[peak])\n",
    "\n",
    "  ax.set_xlabel(\"Frequency (Hz)\")\n",
    "  # ax.set_xlim([-100, 100])\n",
    "  ax.set_ylabel(\"Magnitude\")\n",
    "  ax.set_title(\"FFT of Signal\")"
   ]
  },
  {
   "cell_type": "markdown",
   "metadata": {},
   "source": [
    "Then we generate two sine-waves and look at their magnitude spectra."
   ]
  },
  {
   "cell_type": "code",
   "execution_count": null,
   "metadata": {},
   "outputs": [],
   "source": [
    "plt.rcParams['figure.figsize'] = [6, 6] #set figure dimensions\n",
    "\n",
    "fs = 1000.0 #sampling frequency\n",
    "timeaxis = np.arange(0,2.0,step=1/fs)\n",
    "\n",
    "freq = 30 #sine-wave frequency\n",
    "amp = 1 #amplitude\n",
    "signal1 = amp * np.sin(2.0*pi*freq*timeaxis) #create sine wave\n",
    "\n",
    "signal1_fft, signal1_ifft, freqaxis =  myfft(signal1, timeaxis, fs)\n",
    "plotmyfft(signal1, timeaxis, signal1_fft, signal1_ifft, freqaxis, fs)\n",
    "vals1 = find_peaks(abs(signal1_fft),0.04)\n",
    "print('--------------------------------------------------')"
   ]
  },
  {
   "cell_type": "code",
   "execution_count": null,
   "metadata": {},
   "outputs": [],
   "source": [
    "#change sine-wave frequency and amplitude. identify and interpret effects on plot\n",
    "\n",
    "\n",
    "freq=10 #sine-wave frequency\n",
    "amp=10 #amplitude\n",
    "signal2 = amp * np.sin(2.0*pi*freq*timeaxis) #create sine wave\n",
    "\n",
    "signal2_fft, signal2_ifft, freqaxis =  myfft(signal2, timeaxis, fs)\n",
    "plotmyfft(signal2, timeaxis, signal2_fft, signal2_ifft, freqaxis, fs)\n",
    "vals2 = find_peaks(abs(signal2_fft),0.04)\n",
    "print('--------------------------------------------------')\n"
   ]
  },
  {
   "cell_type": "markdown",
   "metadata": {
    "id": "Neb9ZOy1VfNX"
   },
   "source": [
    "Now using the code above as a template - experiment with the frequency content of signals. For example:\n",
    "\n",
    "1. What happened to the Fourier transform (FT) when the amplitude and frequency of the sine-wave were changed ? Why ?\n",
    "2. Try other values for frequency and amplitude and confirm.\n",
    "3. Try adding a phase to the sine-wave. What happens to the plotted FT ?\n",
    "4. Add two sine-waves - what happens to the frequency spectrum ? Change the amplitude of each sine-wave and comment on what happens\n",
    "5. Go back to a single sine-wave. Rectify it - this is a non-linear operation (why ?). What happens to the frequency spectrum ?"
   ]
  },
  {
   "cell_type": "markdown",
   "metadata": {
    "id": "K1Eu6tbQvw8-"
   },
   "source": [
    "Now take a look at a couple of new signals and their Fourier transforms.\n",
    "\n",
    "Signal 1 - acts as a low-pass filter. What does this mean ? And why ? Explain in the time and frequency domains."
   ]
  },
  {
   "cell_type": "code",
   "execution_count": null,
   "metadata": {
    "colab": {
     "base_uri": "https://localhost:8080/",
     "height": 228
    },
    "id": "96A7_dydwCXo",
    "outputId": "7418f2d3-607b-4bc8-d535-7d58367f3ef7"
   },
   "outputs": [],
   "source": [
    "timeaxis2=np.arange(0,0.15,step=1/fs)# Time values from 0 to 500 milliseconds\n",
    "alpha = 5\n",
    "beta = 250\n",
    "y = (1 - np.exp(-alpha * timeaxis2)) * np.exp(-beta * (timeaxis2 - 0.1))\n",
    "y=y/max(y)\n",
    "\n",
    "y_fft, y_ifft, y_freqaxis =  myfft(y, timeaxis2, fs)\n",
    "plotmyfft2(y, timeaxis2, y_fft, y_freqaxis, fs)\n"
   ]
  },
  {
   "cell_type": "markdown",
   "metadata": {
    "id": "NhKuIgWE2FIG"
   },
   "source": [
    "Let us generate a sine-wave. Filter it by y, either by convolution in the time-domain or multiplication in the frequency domain (followed by an ifft). Do they give the same response ? Look carefully at the end of the output.. why does the output extend beyond 2 s ?"
   ]
  },
  {
   "cell_type": "code",
   "execution_count": null,
   "metadata": {
    "colab": {
     "base_uri": "https://localhost:8080/",
     "height": 407
    },
    "id": "5EZUv2sm2j13",
    "outputId": "2abab576-736c-4c7b-ce13-0fb1c03b8c84"
   },
   "outputs": [],
   "source": [
    "\n",
    "freq1=30 #sine-wave frequency\n",
    "amp1=1 #amplitude\n",
    "signal1=amp1*np.sin(2.0*pi*freq1*timeaxis) #create sine wave\n",
    "signal1_fft, signal1_ifft, freqaxis =  myfft(signal1, timeaxis, fs)\n",
    "\n",
    "# Time-domain convolution\n",
    "result_time_domain = np.convolve(signal1, y, mode='full')\n",
    "\n",
    "# Frequency-domain multiplication\n",
    "N = len(signal1) + len(y) - 1  # this is the size after convolution\n",
    "X = fft(signal1, n=N)\n",
    "Y = fft(y, n=N)\n",
    "result_frequency_domain = real(ifft(X * Y)) #you could check that the imaginary parts are just very small numerical errors\n",
    "\n",
    "# Plotting the results\n",
    "plt.figure(figsize=(10, 4))\n",
    "plt.plot((1/fs)*np.arange(0,len(result_time_domain)),\n",
    "         result_time_domain, \n",
    "         label='Time-domain convolution', \n",
    "         color='blue')\n",
    "plt.plot((1/fs)*np.arange(0,len(result_frequency_domain)),\n",
    "         result_frequency_domain, \n",
    "         label='Frequency-domain multiplication', \n",
    "         color='red', \n",
    "         linestyle='--')\n",
    "plt.title(\"Comparison of Convolution Methods\")\n",
    "plt.xlabel(\"Time (s)\")\n",
    "plt.ylabel(\"Amplitude\")\n",
    "plt.legend()\n",
    "plt.grid(True)\n",
    "plt.tight_layout()\n",
    "plt.show()\n",
    "\n",
    "# To ensure that both methods produce nearly the same result\n",
    "# (There can be very tiny differences due to numerical precision)\n",
    "assert np.allclose(result_time_domain, result_frequency_domain, atol=1e-5), \"The results are not the same!\"\n"
   ]
  },
  {
   "cell_type": "markdown",
   "metadata": {
    "id": "8X9Drtyk8AKv"
   },
   "source": [
    "Note that this similarity may be artificial, since np.conv may be using fft under the hood - I am not sure. For longer signals, and with naive implementations, a method based on fft will be much faster.\n",
    "\n",
    "Now let us test that low-pass filter claim a bit. First generate a sine-wave with different frequencies: 30 Hz and 200 Hz. Filter it by y. Before running the code, what do you expect ? Is the prediction easier from the time-domain or from the frequency domain ?"
   ]
  },
  {
   "cell_type": "code",
   "execution_count": null,
   "metadata": {
    "colab": {
     "base_uri": "https://localhost:8080/",
     "height": 407
    },
    "id": "Fo_XdEFx-veG",
    "outputId": "5ff5702e-e2e4-4af3-d8d1-a9d3f8e1b01f"
   },
   "outputs": [],
   "source": [
    "freq1=30 #sine-wave frequency\n",
    "amp1=1 #amplitude\n",
    "signal1=amp1*np.sin(2.0*pi*freq1*timeaxis) #create sine wave\n",
    "output1 = np.convolve(signal1, y, mode='full')\n",
    "\n",
    "freq2=200#sine-wave frequency\n",
    "amp2=1 #amplitude\n",
    "signal2=amp2*np.sin(2.0*pi*freq2*timeaxis)  #create sine wave\n",
    "output2 = np.convolve(signal2, y, mode='full')\n",
    "\n",
    "plt.figure(figsize=(10, 4))\n",
    "plt.plot((1/fs)*np.arange(0,len(output1)),\n",
    "         output1, \n",
    "         label=str(freq1)+\" Hz\", \n",
    "         color='blue')\n",
    "plt.plot((1/fs)*np.arange(0,len(output2)),\n",
    "         output2, \n",
    "         label=str(freq2) + \"Hz\", \n",
    "         color='red', \n",
    "         linestyle='--')\n",
    "plt.title(\"Comparison of filter outputs\")\n",
    "plt.xlabel(\"Time (s)\")\n",
    "plt.ylabel(\"Amplitude\")\n",
    "plt.legend()\n",
    "plt.grid(True)\n",
    "plt.xlim([0,0.2])\n",
    "plt.tight_layout()\n",
    "plt.show()"
   ]
  },
  {
   "cell_type": "markdown",
   "metadata": {
    "id": "VPiVFKT_CgDF"
   },
   "source": [
    "Now do the same thing as above, but with some other sine-wave frequencies. Stay well below 500 Hz, to avoid aliasing. If you want to use higher frequencies, what needs to change ?\n",
    "\n",
    "Then try a sum of two sinusoids, like 30 Hz and 200 Hz. What does the output look like ? Why ? Plot both the output signal and its Fourier transform (using the code towards the top of this notebook). Interpret it."
   ]
  },
  {
   "cell_type": "code",
   "execution_count": null,
   "metadata": {
    "id": "0oxT_sNDCwqV"
   },
   "outputs": [],
   "source": [
    "#insert code here to test other frequencies and the sum of two sinusoids."
   ]
  },
  {
   "cell_type": "markdown",
   "metadata": {
    "id": "0CaPgpdfCuLf"
   },
   "source": [
    "Finally, let us try a different filter. Try to predict its effect on the same sinusoids at 30 Hz and 200 Hz, and the sum of the two.\n",
    "\n",
    "More challenging: why does this filter, from its time-domain properties (and definition in code) have a spectrum that looks as it does ? Can you intuitively understand this ?"
   ]
  },
  {
   "cell_type": "code",
   "execution_count": null,
   "metadata": {
    "colab": {
     "base_uri": "https://localhost:8080/",
     "height": 228
    },
    "id": "K9RIiEr8Fa3M",
    "outputId": "acf08566-74d5-4c5d-cc87-03f1636c01ba"
   },
   "outputs": [],
   "source": [
    "plt.rcParams['figure.figsize'] = [6, 4]\n",
    "\n",
    "center_freq=200\n",
    "y2=y*np.sin(2.0*pi*center_freq*timeaxis2) #create sine wave, multiplied by the previous filter y\n",
    "\n",
    "y2_fft, y2_ifft, y2_freqaxis =  myfft(y2, timeaxis2, fs)\n",
    "plotmyfft2(y2, timeaxis2, y2_fft, y2_freqaxis, fs)"
   ]
  },
  {
   "cell_type": "markdown",
   "metadata": {
    "id": "pSTQjNbQJPL7"
   },
   "source": [
    "Now let us check the prediction for the 30 Hz and 200 Hz sinusoids and their sum. Write your code, based on the template above for the low-pass filter. Interpret the results."
   ]
  },
  {
   "cell_type": "code",
   "execution_count": null,
   "metadata": {
    "id": "sgXqtUT_L9dj"
   },
   "outputs": [],
   "source": [
    "#Insert code here to do the above"
   ]
  }
 ],
 "metadata": {
  "colab": {
   "authorship_tag": "ABX9TyOk85hoJ7w1T95ZCzKtRbjA",
   "include_colab_link": true,
   "provenance": []
  },
  "kernelspec": {
   "display_name": "Python 3 (ipykernel)",
   "language": "python",
   "name": "python3"
  },
  "language_info": {
   "codemirror_mode": {
    "name": "ipython",
    "version": 3
   },
   "file_extension": ".py",
   "mimetype": "text/x-python",
   "name": "python",
   "nbconvert_exporter": "python",
   "pygments_lexer": "ipython3",
   "version": "3.9.7"
  }
 },
 "nbformat": 4,
 "nbformat_minor": 4
}
