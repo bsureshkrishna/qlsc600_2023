{
  "nbformat": 4,
  "nbformat_minor": 0,
  "metadata": {
    "colab": {
      "provenance": [],
      "authorship_tag": "ABX9TyNdsuwZuPv0hm0FHAcI3r9M",
      "include_colab_link": true
    },
    "kernelspec": {
      "name": "python3",
      "display_name": "Python 3"
    },
    "language_info": {
      "name": "python"
    }
  },
  "cells": [
    {
      "cell_type": "markdown",
      "metadata": {
        "id": "view-in-github",
        "colab_type": "text"
      },
      "source": [
        "<a href=\"https://colab.research.google.com/github/bsureshkrishna/qlsc600_2023/blob/main/ecg_assignment.ipynb\" target=\"_parent\"><img src=\"https://colab.research.google.com/assets/colab-badge.svg\" alt=\"Open In Colab\"/></a>"
      ]
    },
    {
      "cell_type": "code",
      "source": [
        "import numpy as np\n",
        "import matplotlib.pyplot as plt\n",
        "from scipy.signal import butter, filtfilt\n",
        "\n",
        "sample_rate = 360\n",
        "\n",
        "def mybandpassfilter(signal, lowcut, highcut, fs):\n",
        "  #fs is sampling freqency, lowcut, highcut are lower cutoff and higher cutoff frequencies\n",
        "\n",
        "    # Design a Butterworth bandpass filter\n",
        "    nyquist = 0.5 * fs #fs is sampling freqency\n",
        "    low = lowcut / nyquist\n",
        "    high = highcut / nyquist\n",
        "    b, a = butter(N=2, Wn=[low, high], btype='band')\n",
        "\n",
        "    # Apply the filter\n",
        "    filtered_signal = filtfilt(b, a, signal)\n",
        "    return filtered_signal\n",
        "\n",
        "def mylowpass_filter(signal, cutoff, fs, order=5):\n",
        "  #signal, cutoff, fs, order=5\n",
        "  #signal is signal to be filtered, cutoff is the upper cutoff frequency, fs is sampling-frequency and order is steepness of filter rolloff\n",
        "    nyq = 0.5 * fs  # Nyquist Frequency\n",
        "    normal_cutoff = cutoff / nyq\n",
        "    # Get the filter coefficients\n",
        "    b, a = butter(order, normal_cutoff, btype='low', analog=False)\n",
        "    filtered_signal = filtfilt(b, a, data)\n",
        "    return filtered_signal\n"
      ],
      "metadata": {
        "id": "C98EFUhIw4jN"
      },
      "execution_count": 69,
      "outputs": []
    }
  ]
}